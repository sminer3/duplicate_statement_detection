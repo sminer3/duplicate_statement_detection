{
 "cells": [
  {
   "cell_type": "code",
   "execution_count": 38,
   "metadata": {},
   "outputs": [],
   "source": [
    "import sys\n",
    "sys.path.insert(0, '../scripts/')\n",
    "import numpy as np\n",
    "import pandas as pd\n",
    "import pickle\n",
    "from functions import *\n",
    "from calc_features import *\n",
    "from wmd import *\n",
    "from docdb_query import docdb_query\n",
    "from use_embeddings import get_use_embeddings\n"
   ]
  },
  {
   "cell_type": "code",
   "execution_count": 2,
   "metadata": {},
   "outputs": [
    {
     "name": "stderr",
     "output_type": "stream",
     "text": [
      "c:\\users\\sminer\\appdata\\local\\programs\\python\\python35\\lib\\site-packages\\IPython\\core\\interactiveshell.py:2728: DtypeWarning: Columns (3) have mixed types. Specify dtype option on import or set low_memory=False.\n",
      "  interactivity=interactivity, compiler=compiler, result=result)\n"
     ]
    }
   ],
   "source": [
    "train = pd.read_csv('../data/train.csv')\n",
    "stopwords = get_stopwords('../data/stopwords.json')\n",
    "embeddings = get_embeddings('../data/embeddings.p')\n",
    "sentiment_look_up = pd.read_csv('../data/indico_sentiment_hq_key.csv',index_col=1)\n",
    "use_embeddings = get_embeddings('../data/use_embeddings.p')"
   ]
  },
  {
   "cell_type": "markdown",
   "metadata": {},
   "source": [
    "Goal: We want to find the representative statements. Our approach to finding representative statements will be to introduce a filter that will let statements in and out depending on how similar statements are to each other. There are 2 ways of approaching this: (1) Only let statements into the idea pool that are below a certain similarity score to the other statements. (2) Take in a batch of statements every few respondents or so, and return the statements that are most unique"
   ]
  },
  {
   "cell_type": "markdown",
   "metadata": {},
   "source": [
    "(1) If we want to only let in unique statements (filter from the start) then we need to identify a threshold in which we let or do not let statements into the idea pool. Because most of the metrics we are currently considering do not take context into account, we'll want to make the threshold dynamic. This can be done by keeping track of the pairwise uniqueness scores, and by looking at the minimum distances, adjust what we think would be a good threshold"
   ]
  },
  {
   "cell_type": "markdown",
   "metadata": {},
   "source": [
    "(2) If we take a batch of statements in every few respondents or so, we can return a percentage of the most unique ideas back. The percentage would have to be adjusted to make sure that we are not cutting out too many / not enough ideas"
   ]
  },
  {
   "cell_type": "code",
   "execution_count": 111,
   "metadata": {},
   "outputs": [],
   "source": [
    "idStudy = 'e8653830-e108-4492-9dd3-6c480445a18e'\n",
    "idStudyObject = '410aaa0a-1b93-4bef-a65e-0568958686e6'\n",
    "query = {'query': \"Select c.idStudyStudyObject, c.label, c.isExcluded from c where c.idStudyStudyObject = '\" + idStudy + \"+\" + idStudyObject + \"'\"}\n",
    "statements = docdb_query(collectionID = 'statements', query=query)\n",
    "statements = pd.DataFrame(statements)\n",
    "statements = statements[statements.isExcluded==False]\n",
    "\n",
    "query_elab = {'query': \"Select c.idStatement from c where c.idStudyStudyObject = '\" + idStudy + \"+\" + idStudyObject + \"'\"}\n",
    "elab = docdb_query(collectionID = 'statement-elaborations', query=query_elab)\n",
    "elab = pd.DataFrame(elab).idStatement.value_counts().reset_index()\n",
    "elab.columns = ['id','n_elab']"
   ]
  },
  {
   "cell_type": "code",
   "execution_count": 138,
   "metadata": {},
   "outputs": [
    {
     "name": "stdout",
     "output_type": "stream",
     "text": [
      "INFO:tensorflow:Saver not created because there are no variables in the graph to restore\n"
     ]
    },
    {
     "name": "stderr",
     "output_type": "stream",
     "text": [
      "INFO:Saver not created because there are no variables in the graph to restore\n"
     ]
    }
   ],
   "source": [
    "s = list(statements.label)\n",
    "num = list(statements.n_elab)\n",
    "sub_embeddings = get_use_embeddings(s)"
   ]
  },
  {
   "cell_type": "code",
   "execution_count": 139,
   "metadata": {},
   "outputs": [
    {
     "data": {
      "text/plain": [
       "1711.0"
      ]
     },
     "execution_count": 139,
     "metadata": {},
     "output_type": "execute_result"
    }
   ],
   "source": [
    "len(s)*(len(s)-1)/2"
   ]
  },
  {
   "cell_type": "code",
   "execution_count": 140,
   "metadata": {},
   "outputs": [
    {
     "data": {
      "text/plain": [
       "1711"
      ]
     },
     "execution_count": 140,
     "metadata": {},
     "output_type": "execute_result"
    }
   ],
   "source": [
    "from scipy.spatial.distance import pdist, squareform\n",
    "from scipy.stats import describe\n",
    "d = pdist(sub_embeddings)\n",
    "d2 = squareform(d)\n",
    "len(d)"
   ]
  },
  {
   "cell_type": "code",
   "execution_count": 141,
   "metadata": {},
   "outputs": [
    {
     "data": {
      "text/plain": [
       "count    1.711000e+03\n",
       "mean    -3.342998e-16\n",
       "std      1.000292e+00\n",
       "min     -5.576491e+00\n",
       "25%     -4.848445e-01\n",
       "50%      1.929885e-01\n",
       "75%      7.203533e-01\n",
       "max      1.806147e+00\n",
       "dtype: float64"
      ]
     },
     "execution_count": 141,
     "metadata": {},
     "output_type": "execute_result"
    }
   ],
   "source": [
    "pd.Series((d-np.mean(d))/np.std(d)).describe()"
   ]
  },
  {
   "cell_type": "code",
   "execution_count": 146,
   "metadata": {},
   "outputs": [],
   "source": [
    "np.fill_diagonal(d2,20)\n",
    "test = np.where(d2<np.mean(d)-2.5*np.std(d))"
   ]
  },
  {
   "cell_type": "code",
   "execution_count": 147,
   "metadata": {},
   "outputs": [
    {
     "name": "stdout",
     "output_type": "stream",
     "text": [
      "Places I go vs. My current location\n",
      "Websites I visit vs. Everything you do online\n",
      "My current location vs. Places I go\n",
      "My current location vs. My area\n",
      "My gender vs. Gender\n",
      "Things I do vs. Things I like\n",
      "Things I do vs. Things I've searched before\n",
      "Things I do vs. Probably more than I realize\n",
      "Things I do vs. What I like\n",
      "Things I do vs. Too much information\n",
      "My age vs. Age\n",
      "My age vs. Age range\n",
      "Things I like vs. Things I do\n",
      "Things I like vs. What I like\n",
      "Products or services I buy vs. Products or services I might like to buy\n",
      "Products or services I buy vs. Products I buy\n",
      "Brands I might like vs. Products or services I might like to buy\n",
      "Brands I might like vs. Good brand\n",
      "Brands I might like vs. Products I buy\n",
      "Products or services I might like to buy vs. Products or services I buy\n",
      "Products or services I might like to buy vs. Brands I might like\n",
      "Products or services I might like to buy vs. Products I buy\n",
      "None vs. 1\n",
      "None vs. Nothing\n",
      "1 vs. None\n",
      "1 vs. I\n",
      "Ok vs. Good\n",
      "Ok vs. I\n",
      "My area vs. My current location\n",
      "I liked vs. What I like\n",
      "Good brand vs. Brands I might like\n",
      "Good vs. Ok\n",
      "Browse history vs. My searching history\n",
      "Everything you do online vs. Websites I visit\n",
      "Nothing vs. None\n",
      "Nothing vs. Not sure\n",
      "Nothing vs. Don't know\n",
      "Age vs. My age\n",
      "Age vs. Age range\n",
      "Previous purchases vs. What purchases i have recently made\n",
      "Things I've searched before vs. Things I do\n",
      "Things I've searched before vs. Searches\n",
      "Things I've searched before vs. Only what ive either searched for in the past or what im searching for at that time\n",
      "Things I've searched before vs. My searching history\n",
      "Products I buy vs. Products or services I buy\n",
      "Products I buy vs. Brands I might like\n",
      "Products I buy vs. Products or services I might like to buy\n",
      "Not sure vs. Nothing\n",
      "Not sure vs. Don't know\n",
      "What I have searched for in web browsers and what I have clicked on and viewed vs. My previous searches and web browsing\n",
      "No idea dread to think vs. Don't know\n",
      "Gender vs. My gender\n",
      "I vs. 1\n",
      "I vs. Ok\n",
      "Search vs. Searches\n",
      "Searches vs. Things I've searched before\n",
      "Searches vs. Search\n",
      "Searches vs. They show my  previous searches\n",
      "Probably more than I realize vs. Things I do\n",
      "What I like vs. Things I do\n",
      "What I like vs. Things I like\n",
      "What I like vs. I liked\n",
      "Don't know vs. Nothing\n",
      "Don't know vs. Not sure\n",
      "Don't know vs. No idea dread to think\n",
      "Too much information vs. Things I do\n",
      "Pages visited before and any information I have entered previously vs. They show my  previous searches\n",
      "Data from my history vs. My searching history\n",
      "Only what ive either searched for in the past or what im searching for at that time vs. Things I've searched before\n",
      "Only what ive either searched for in the past or what im searching for at that time vs. My searching history\n",
      "Only what ive either searched for in the past or what im searching for at that time vs. They show my  previous searches\n",
      "My searching history vs. Browse history\n",
      "My searching history vs. Things I've searched before\n",
      "My searching history vs. Data from my history\n",
      "My searching history vs. Only what ive either searched for in the past or what im searching for at that time\n",
      "What purchases i have recently made vs. Previous purchases\n",
      "Age range vs. My age\n",
      "Age range vs. Age\n",
      "They show my  previous searches vs. Searches\n",
      "They show my  previous searches vs. Pages visited before and any information I have entered previously\n",
      "They show my  previous searches vs. Only what ive either searched for in the past or what im searching for at that time\n",
      "They show my  previous searches vs. My previous searches and web browsing\n",
      "My previous searches and web browsing vs. What I have searched for in web browsers and what I have clicked on and viewed\n",
      "My previous searches and web browsing vs. They show my  previous searches\n"
     ]
    }
   ],
   "source": [
    "for i in range(len(test[0])):\n",
    "    print(s[test[0][i]] + ' vs. ' + s[test[1][i]])"
   ]
  },
  {
   "cell_type": "code",
   "execution_count": 144,
   "metadata": {},
   "outputs": [
    {
     "data": {
      "text/plain": [
       "<matplotlib.axes._subplots.AxesSubplot at 0x1d78e10a7b8>"
      ]
     },
     "execution_count": 144,
     "metadata": {},
     "output_type": "execute_result"
    },
    {
     "data": {
      "image/png": "[encoded data removed]",
      "text/plain": [
       "<matplotlib.figure.Figure at 0x1d738819940>"
      ]
     },
     "metadata": {},
     "output_type": "display_data"
    }
   ],
   "source": [
    "import matplotlib.pyplot as plt\n",
    "%matplotlib inline`\n",
    "pd.Series(d).hist(bins = 50, figsize = (20, 15))"
   ]
  },
  {
   "cell_type": "code",
   "execution_count": 148,
   "metadata": {},
   "outputs": [
    {
     "data": {
      "text/plain": [
       "0.8413424733807859"
      ]
     },
     "execution_count": 148,
     "metadata": {},
     "output_type": "execute_result"
    }
   ],
   "source": [
    "np.mean(d)-2.5*np.std(d)"
   ]
  },
  {
   "cell_type": "code",
   "execution_count": 25,
   "metadata": {},
   "outputs": [],
   "source": [
    "from random import sample\n",
    "samp = sample(range(0,len(sub)),len(sub))"
   ]
  },
  {
   "cell_type": "code",
   "execution_count": 34,
   "metadata": {},
   "outputs": [
    {
     "data": {
      "text/plain": [
       "0.0"
      ]
     },
     "execution_count": 34,
     "metadata": {},
     "output_type": "execute_result"
    }
   ],
   "source": [
    "import numpy as np\n",
    "np.sum([1 for s in statements.label if s in embeddings.keys()])"
   ]
  },
  {
   "cell_type": "code",
   "execution_count": 37,
   "metadata": {},
   "outputs": [
    {
     "data": {
      "text/plain": [
       "False"
      ]
     },
     "execution_count": 37,
     "metadata": {},
     "output_type": "execute_result"
    }
   ],
   "source": [
    "statements.label[1] in embeddings.keys()"
   ]
  }
 ],
 "metadata": {
  "kernelspec": {
   "display_name": "Python 3",
   "language": "python",
   "name": "python3"
  },
  "language_info": {
   "codemirror_mode": {
    "name": "ipython",
    "version": 3
   },
   "file_extension": ".py",
   "mimetype": "text/x-python",
   "name": "python",
   "nbconvert_exporter": "python",
   "pygments_lexer": "ipython3",
   "version": "3.5.3"
  }
 },
 "nbformat": 4,
 "nbformat_minor": 2
}
